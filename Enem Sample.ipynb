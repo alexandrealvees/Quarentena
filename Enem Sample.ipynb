{
 "cells": [
  {
   "cell_type": "code",
   "execution_count": 1,
   "metadata": {},
   "outputs": [],
   "source": [
    "import pandas as pd\n",
    "\n",
    "%precision %.2f\n",
    "pd.options.display.float_format = '{:,.2f}'.format"
   ]
  },
  {
   "cell_type": "code",
   "execution_count": 2,
   "metadata": {},
   "outputs": [
    {
     "output_type": "execute_result",
     "data": {
      "text/plain": "(1000000, 137)"
     },
     "metadata": {},
     "execution_count": 2
    }
   ],
   "source": [
    "ano = \"2018\"\n",
    "#seed = 43278\n",
    "fonte = f\"MICRODADOS_ENEM_{ano}.csv\"\n",
    "#fonte = f\"MICRODADOS_ENEM_{ano}_SAMPLE_{seed}.csv\"\n",
    "\n",
    "#dados = pd.read_csv(fonte, encoding=\"ISO-8859-1\", delimiter=\";\")\n",
    "dados = pd.read_csv(fonte, encoding=\"ISO-8859-1\", delimiter=\";\", nrows=1000000)\n",
    "dados.shape"
   ]
  },
  {
   "cell_type": "code",
   "execution_count": 3,
   "metadata": {},
   "outputs": [
    {
     "output_type": "execute_result",
     "data": {
      "text/plain": "   NU_INSCRICAO  NU_ANO  CO_MUNICIPIO_RESIDENCIA NO_MUNICIPIO_RESIDENCIA  \\\n0  180008202043    2018                  5300108                Brasília   \n1  180007197856    2018                  2111102      São João dos Patos   \n2  180008517434    2018                  3530607         Mogi das Cruzes   \n3  180007661228    2018                  2916401              Itapetinga   \n4  180008787987    2018                  2918100               Jeremoabo   \n\n   CO_UF_RESIDENCIA SG_UF_RESIDENCIA  NU_IDADE TP_SEXO  TP_ESTADO_CIVIL  \\\n0                53               DF     44.00       M             1.00   \n1                21               MA     23.00       F             0.00   \n2                35               SP     23.00       F             0.00   \n3                29               BA     26.00       F             0.00   \n4                29               BA     20.00       M             0.00   \n\n   TP_COR_RACA  ...  Q018  Q019 Q020  Q021 Q022  Q023  Q024  Q025  Q026  Q027  \n0            1  ...     A     A    A     A    A     A     A     A     B     A  \n1            3  ...     A     B    A     A    B     A     A     A     A     A  \n2            1  ...     A     B    A     A    B     B     B     B     A     A  \n3            3  ...     A     B    B     A    C     A     B     B     A     A  \n4            0  ...     A     B    A     A    B     A     B     B     B     A  \n\n[5 rows x 137 columns]",
      "text/html": "<div>\n<style scoped>\n    .dataframe tbody tr th:only-of-type {\n        vertical-align: middle;\n    }\n\n    .dataframe tbody tr th {\n        vertical-align: top;\n    }\n\n    .dataframe thead th {\n        text-align: right;\n    }\n</style>\n<table border=\"1\" class=\"dataframe\">\n  <thead>\n    <tr style=\"text-align: right;\">\n      <th></th>\n      <th>NU_INSCRICAO</th>\n      <th>NU_ANO</th>\n      <th>CO_MUNICIPIO_RESIDENCIA</th>\n      <th>NO_MUNICIPIO_RESIDENCIA</th>\n      <th>CO_UF_RESIDENCIA</th>\n      <th>SG_UF_RESIDENCIA</th>\n      <th>NU_IDADE</th>\n      <th>TP_SEXO</th>\n      <th>TP_ESTADO_CIVIL</th>\n      <th>TP_COR_RACA</th>\n      <th>...</th>\n      <th>Q018</th>\n      <th>Q019</th>\n      <th>Q020</th>\n      <th>Q021</th>\n      <th>Q022</th>\n      <th>Q023</th>\n      <th>Q024</th>\n      <th>Q025</th>\n      <th>Q026</th>\n      <th>Q027</th>\n    </tr>\n  </thead>\n  <tbody>\n    <tr>\n      <th>0</th>\n      <td>180008202043</td>\n      <td>2018</td>\n      <td>5300108</td>\n      <td>Brasília</td>\n      <td>53</td>\n      <td>DF</td>\n      <td>44.00</td>\n      <td>M</td>\n      <td>1.00</td>\n      <td>1</td>\n      <td>...</td>\n      <td>A</td>\n      <td>A</td>\n      <td>A</td>\n      <td>A</td>\n      <td>A</td>\n      <td>A</td>\n      <td>A</td>\n      <td>A</td>\n      <td>B</td>\n      <td>A</td>\n    </tr>\n    <tr>\n      <th>1</th>\n      <td>180007197856</td>\n      <td>2018</td>\n      <td>2111102</td>\n      <td>São João dos Patos</td>\n      <td>21</td>\n      <td>MA</td>\n      <td>23.00</td>\n      <td>F</td>\n      <td>0.00</td>\n      <td>3</td>\n      <td>...</td>\n      <td>A</td>\n      <td>B</td>\n      <td>A</td>\n      <td>A</td>\n      <td>B</td>\n      <td>A</td>\n      <td>A</td>\n      <td>A</td>\n      <td>A</td>\n      <td>A</td>\n    </tr>\n    <tr>\n      <th>2</th>\n      <td>180008517434</td>\n      <td>2018</td>\n      <td>3530607</td>\n      <td>Mogi das Cruzes</td>\n      <td>35</td>\n      <td>SP</td>\n      <td>23.00</td>\n      <td>F</td>\n      <td>0.00</td>\n      <td>1</td>\n      <td>...</td>\n      <td>A</td>\n      <td>B</td>\n      <td>A</td>\n      <td>A</td>\n      <td>B</td>\n      <td>B</td>\n      <td>B</td>\n      <td>B</td>\n      <td>A</td>\n      <td>A</td>\n    </tr>\n    <tr>\n      <th>3</th>\n      <td>180007661228</td>\n      <td>2018</td>\n      <td>2916401</td>\n      <td>Itapetinga</td>\n      <td>29</td>\n      <td>BA</td>\n      <td>26.00</td>\n      <td>F</td>\n      <td>0.00</td>\n      <td>3</td>\n      <td>...</td>\n      <td>A</td>\n      <td>B</td>\n      <td>B</td>\n      <td>A</td>\n      <td>C</td>\n      <td>A</td>\n      <td>B</td>\n      <td>B</td>\n      <td>A</td>\n      <td>A</td>\n    </tr>\n    <tr>\n      <th>4</th>\n      <td>180008787987</td>\n      <td>2018</td>\n      <td>2918100</td>\n      <td>Jeremoabo</td>\n      <td>29</td>\n      <td>BA</td>\n      <td>20.00</td>\n      <td>M</td>\n      <td>0.00</td>\n      <td>0</td>\n      <td>...</td>\n      <td>A</td>\n      <td>B</td>\n      <td>A</td>\n      <td>A</td>\n      <td>B</td>\n      <td>A</td>\n      <td>B</td>\n      <td>B</td>\n      <td>B</td>\n      <td>A</td>\n    </tr>\n  </tbody>\n</table>\n<p>5 rows × 137 columns</p>\n</div>"
     },
     "metadata": {},
     "execution_count": 3
    }
   ],
   "source": [
    "dados.head()"
   ]
  },
  {
   "cell_type": "code",
   "execution_count": 4,
   "metadata": {},
   "outputs": [
    {
     "output_type": "execute_result",
     "data": {
      "text/plain": "array(['NU_INSCRICAO', 'NU_ANO', 'CO_MUNICIPIO_RESIDENCIA',\n       'NO_MUNICIPIO_RESIDENCIA', 'CO_UF_RESIDENCIA', 'SG_UF_RESIDENCIA',\n       'NU_IDADE', 'TP_SEXO', 'TP_ESTADO_CIVIL', 'TP_COR_RACA',\n       'TP_NACIONALIDADE', 'CO_MUNICIPIO_NASCIMENTO',\n       'NO_MUNICIPIO_NASCIMENTO', 'CO_UF_NASCIMENTO', 'SG_UF_NASCIMENTO',\n       'TP_ST_CONCLUSAO', 'TP_ANO_CONCLUIU', 'TP_ESCOLA', 'TP_ENSINO',\n       'IN_TREINEIRO', 'CO_ESCOLA', 'CO_MUNICIPIO_ESC',\n       'NO_MUNICIPIO_ESC', 'CO_UF_ESC', 'SG_UF_ESC',\n       'TP_DEPENDENCIA_ADM_ESC', 'TP_LOCALIZACAO_ESC', 'TP_SIT_FUNC_ESC',\n       'IN_BAIXA_VISAO', 'IN_CEGUEIRA', 'IN_SURDEZ',\n       'IN_DEFICIENCIA_AUDITIVA', 'IN_SURDO_CEGUEIRA',\n       'IN_DEFICIENCIA_FISICA', 'IN_DEFICIENCIA_MENTAL',\n       'IN_DEFICIT_ATENCAO', 'IN_DISLEXIA', 'IN_DISCALCULIA',\n       'IN_AUTISMO', 'IN_VISAO_MONOCULAR', 'IN_OUTRA_DEF', 'IN_GESTANTE',\n       'IN_LACTANTE', 'IN_IDOSO', 'IN_ESTUDA_CLASSE_HOSPITALAR',\n       'IN_SEM_RECURSO', 'IN_BRAILLE', 'IN_AMPLIADA_24', 'IN_AMPLIADA_18',\n       'IN_LEDOR', 'IN_ACESSO', 'IN_TRANSCRICAO', 'IN_LIBRAS',\n       'IN_LEITURA_LABIAL', 'IN_MESA_CADEIRA_RODAS',\n       'IN_MESA_CADEIRA_SEPARADA', 'IN_APOIO_PERNA', 'IN_GUIA_INTERPRETE',\n       'IN_COMPUTADOR', 'IN_CADEIRA_ESPECIAL', 'IN_CADEIRA_CANHOTO',\n       'IN_CADEIRA_ACOLCHOADA', 'IN_PROVA_DEITADO', 'IN_MOBILIARIO_OBESO',\n       'IN_LAMINA_OVERLAY', 'IN_PROTETOR_AURICULAR', 'IN_MEDIDOR_GLICOSE',\n       'IN_MAQUINA_BRAILE', 'IN_SOROBAN', 'IN_MARCA_PASSO', 'IN_SONDA',\n       'IN_MEDICAMENTOS', 'IN_SALA_INDIVIDUAL', 'IN_SALA_ESPECIAL',\n       'IN_SALA_ACOMPANHANTE', 'IN_MOBILIARIO_ESPECIFICO',\n       'IN_MATERIAL_ESPECIFICO', 'IN_NOME_SOCIAL', 'CO_MUNICIPIO_PROVA',\n       'NO_MUNICIPIO_PROVA', 'CO_UF_PROVA', 'SG_UF_PROVA',\n       'TP_PRESENCA_CN', 'TP_PRESENCA_CH', 'TP_PRESENCA_LC',\n       'TP_PRESENCA_MT', 'CO_PROVA_CN', 'CO_PROVA_CH', 'CO_PROVA_LC',\n       'CO_PROVA_MT', 'NU_NOTA_CN', 'NU_NOTA_CH', 'NU_NOTA_LC',\n       'NU_NOTA_MT', 'TX_RESPOSTAS_CN', 'TX_RESPOSTAS_CH',\n       'TX_RESPOSTAS_LC', 'TX_RESPOSTAS_MT', 'TP_LINGUA',\n       'TX_GABARITO_CN', 'TX_GABARITO_CH', 'TX_GABARITO_LC',\n       'TX_GABARITO_MT', 'TP_STATUS_REDACAO', 'NU_NOTA_COMP1',\n       'NU_NOTA_COMP2', 'NU_NOTA_COMP3', 'NU_NOTA_COMP4', 'NU_NOTA_COMP5',\n       'NU_NOTA_REDACAO', 'Q001', 'Q002', 'Q003', 'Q004', 'Q005', 'Q006',\n       'Q007', 'Q008', 'Q009', 'Q010', 'Q011', 'Q012', 'Q013', 'Q014',\n       'Q015', 'Q016', 'Q017', 'Q018', 'Q019', 'Q020', 'Q021', 'Q022',\n       'Q023', 'Q024', 'Q025', 'Q026', 'Q027'], dtype=object)"
     },
     "metadata": {},
     "execution_count": 4
    }
   ],
   "source": [
    "dados.columns.values"
   ]
  },
  {
   "cell_type": "code",
   "execution_count": 5,
   "metadata": {},
   "outputs": [],
   "source": [
    "colunas_de_notas = ['NU_NOTA_CN', 'NU_NOTA_CH', 'NU_NOTA_LC',\n",
    "       'NU_NOTA_MT', 'NU_NOTA_REDACAO']\n",
    "dados = dados[colunas_de_notas].dropna()"
   ]
  },
  {
   "cell_type": "code",
   "execution_count": 6,
   "metadata": {},
   "outputs": [
    {
     "output_type": "stream",
     "name": "stdout",
     "text": "(751379, 5)\n"
    },
    {
     "output_type": "execute_result",
     "data": {
      "text/plain": "   NU_NOTA_CN  NU_NOTA_CH  NU_NOTA_LC  NU_NOTA_MT  NU_NOTA_REDACAO\n1      521.00      568.70      513.10      480.30           280.00\n5      461.80      564.00      466.80      538.80           580.00\n7      499.30      663.20      605.20      733.80           680.00\n8      411.80      429.80      445.20      459.00           340.00\n9      469.40      650.20      606.60      525.40           740.00",
      "text/html": "<div>\n<style scoped>\n    .dataframe tbody tr th:only-of-type {\n        vertical-align: middle;\n    }\n\n    .dataframe tbody tr th {\n        vertical-align: top;\n    }\n\n    .dataframe thead th {\n        text-align: right;\n    }\n</style>\n<table border=\"1\" class=\"dataframe\">\n  <thead>\n    <tr style=\"text-align: right;\">\n      <th></th>\n      <th>NU_NOTA_CN</th>\n      <th>NU_NOTA_CH</th>\n      <th>NU_NOTA_LC</th>\n      <th>NU_NOTA_MT</th>\n      <th>NU_NOTA_REDACAO</th>\n    </tr>\n  </thead>\n  <tbody>\n    <tr>\n      <th>1</th>\n      <td>521.00</td>\n      <td>568.70</td>\n      <td>513.10</td>\n      <td>480.30</td>\n      <td>280.00</td>\n    </tr>\n    <tr>\n      <th>5</th>\n      <td>461.80</td>\n      <td>564.00</td>\n      <td>466.80</td>\n      <td>538.80</td>\n      <td>580.00</td>\n    </tr>\n    <tr>\n      <th>7</th>\n      <td>499.30</td>\n      <td>663.20</td>\n      <td>605.20</td>\n      <td>733.80</td>\n      <td>680.00</td>\n    </tr>\n    <tr>\n      <th>8</th>\n      <td>411.80</td>\n      <td>429.80</td>\n      <td>445.20</td>\n      <td>459.00</td>\n      <td>340.00</td>\n    </tr>\n    <tr>\n      <th>9</th>\n      <td>469.40</td>\n      <td>650.20</td>\n      <td>606.60</td>\n      <td>525.40</td>\n      <td>740.00</td>\n    </tr>\n  </tbody>\n</table>\n</div>"
     },
     "metadata": {},
     "execution_count": 6
    }
   ],
   "source": [
    "print(dados.shape)\n",
    "dados.head()"
   ]
  },
  {
   "cell_type": "code",
   "execution_count": 7,
   "metadata": {},
   "outputs": [
    {
     "output_type": "stream",
     "name": "stdout",
     "text": "(150000, 5)\n(20000, 5)\n(10000, 5)\n"
    }
   ],
   "source": [
    "import numpy as np\n",
    "\n",
    "seed = 845309\n",
    "np.random.seed(seed)\n",
    "n_treino = 180000\n",
    "n_teste = 20000\n",
    "n_validacao = 10000\n",
    "\n",
    "dados_treino = dados.sample(n = n_treino)\n",
    "dados_teste = dados_treino.sample(n = n_teste)\n",
    "dados_treino.drop(dados_teste.index, inplace = True)\n",
    "dados_validacao = dados_treino.sample(n = n_validacao)\n",
    "dados_treino.drop(dados_validacao.index, inplace = True)\n",
    "\n",
    "n_intersc_treino_teste = len(dados_treino.index.intersection(dados_teste.index))\n",
    "n_intersc_treino_valicacao = len(dados_treino.index.intersection(dados_validacao.index))\n",
    "\n",
    "assert n_intersc_treino_teste == 0\n",
    "assert n_intersc_treino_valicacao == 0\n",
    "\n",
    "dados_treino.reset_index(inplace=True, drop=True)\n",
    "dados_teste.reset_index(inplace=True, drop=True)\n",
    "dados_validacao.reset_index(inplace=True, drop=True)\n",
    "\n",
    "print(dados_treino.shape)\n",
    "print(dados_teste.shape)\n",
    "print(dados_validacao.shape)"
   ]
  },
  {
   "cell_type": "code",
   "execution_count": 8,
   "metadata": {},
   "outputs": [
    {
     "output_type": "execute_result",
     "data": {
      "text/plain": "   NU_NOTA_CN  NU_NOTA_CH  NU_NOTA_LC  NU_NOTA_MT  NU_NOTA_REDACAO\n0      411.60      436.60      430.10      430.40           340.00\n1      499.10      521.30      543.30      548.50           800.00\n2      464.50      572.90      566.50      393.90           340.00\n3      457.00      646.00      540.50      613.80           600.00\n4      409.50      432.00      464.10      372.80             0.00",
      "text/html": "<div>\n<style scoped>\n    .dataframe tbody tr th:only-of-type {\n        vertical-align: middle;\n    }\n\n    .dataframe tbody tr th {\n        vertical-align: top;\n    }\n\n    .dataframe thead th {\n        text-align: right;\n    }\n</style>\n<table border=\"1\" class=\"dataframe\">\n  <thead>\n    <tr style=\"text-align: right;\">\n      <th></th>\n      <th>NU_NOTA_CN</th>\n      <th>NU_NOTA_CH</th>\n      <th>NU_NOTA_LC</th>\n      <th>NU_NOTA_MT</th>\n      <th>NU_NOTA_REDACAO</th>\n    </tr>\n  </thead>\n  <tbody>\n    <tr>\n      <th>0</th>\n      <td>411.60</td>\n      <td>436.60</td>\n      <td>430.10</td>\n      <td>430.40</td>\n      <td>340.00</td>\n    </tr>\n    <tr>\n      <th>1</th>\n      <td>499.10</td>\n      <td>521.30</td>\n      <td>543.30</td>\n      <td>548.50</td>\n      <td>800.00</td>\n    </tr>\n    <tr>\n      <th>2</th>\n      <td>464.50</td>\n      <td>572.90</td>\n      <td>566.50</td>\n      <td>393.90</td>\n      <td>340.00</td>\n    </tr>\n    <tr>\n      <th>3</th>\n      <td>457.00</td>\n      <td>646.00</td>\n      <td>540.50</td>\n      <td>613.80</td>\n      <td>600.00</td>\n    </tr>\n    <tr>\n      <th>4</th>\n      <td>409.50</td>\n      <td>432.00</td>\n      <td>464.10</td>\n      <td>372.80</td>\n      <td>0.00</td>\n    </tr>\n  </tbody>\n</table>\n</div>"
     },
     "metadata": {},
     "execution_count": 8
    }
   ],
   "source": [
    "dados_treino.head()"
   ]
  },
  {
   "cell_type": "code",
   "execution_count": 9,
   "metadata": {},
   "outputs": [
    {
     "output_type": "execute_result",
     "data": {
      "text/plain": "   NU_NOTA_CN  NU_NOTA_CH  NU_NOTA_LC  NU_NOTA_MT  NU_NOTA_REDACAO\n0      534.90      617.50      528.20      609.10           600.00\n1      423.30      434.60      441.20      429.80            80.00\n2      418.50      452.90      389.70      426.50           360.00\n3      381.70      508.30      409.90      389.70           340.00\n4      440.70      673.70      547.20      532.50           540.00",
      "text/html": "<div>\n<style scoped>\n    .dataframe tbody tr th:only-of-type {\n        vertical-align: middle;\n    }\n\n    .dataframe tbody tr th {\n        vertical-align: top;\n    }\n\n    .dataframe thead th {\n        text-align: right;\n    }\n</style>\n<table border=\"1\" class=\"dataframe\">\n  <thead>\n    <tr style=\"text-align: right;\">\n      <th></th>\n      <th>NU_NOTA_CN</th>\n      <th>NU_NOTA_CH</th>\n      <th>NU_NOTA_LC</th>\n      <th>NU_NOTA_MT</th>\n      <th>NU_NOTA_REDACAO</th>\n    </tr>\n  </thead>\n  <tbody>\n    <tr>\n      <th>0</th>\n      <td>534.90</td>\n      <td>617.50</td>\n      <td>528.20</td>\n      <td>609.10</td>\n      <td>600.00</td>\n    </tr>\n    <tr>\n      <th>1</th>\n      <td>423.30</td>\n      <td>434.60</td>\n      <td>441.20</td>\n      <td>429.80</td>\n      <td>80.00</td>\n    </tr>\n    <tr>\n      <th>2</th>\n      <td>418.50</td>\n      <td>452.90</td>\n      <td>389.70</td>\n      <td>426.50</td>\n      <td>360.00</td>\n    </tr>\n    <tr>\n      <th>3</th>\n      <td>381.70</td>\n      <td>508.30</td>\n      <td>409.90</td>\n      <td>389.70</td>\n      <td>340.00</td>\n    </tr>\n    <tr>\n      <th>4</th>\n      <td>440.70</td>\n      <td>673.70</td>\n      <td>547.20</td>\n      <td>532.50</td>\n      <td>540.00</td>\n    </tr>\n  </tbody>\n</table>\n</div>"
     },
     "metadata": {},
     "execution_count": 9
    }
   ],
   "source": [
    "dados_teste.head()"
   ]
  },
  {
   "cell_type": "code",
   "execution_count": 10,
   "metadata": {},
   "outputs": [
    {
     "output_type": "execute_result",
     "data": {
      "text/plain": "   NU_NOTA_CN  NU_NOTA_CH  NU_NOTA_LC  NU_NOTA_MT  NU_NOTA_REDACAO\n0      599.50      664.60      629.90      739.30           800.00\n1      580.90      624.40      574.80      630.80           600.00\n2      585.20      627.90      706.10      784.90           860.00\n3      534.80      646.70      598.40      615.50           740.00\n4      413.20      542.50      462.40      394.50           500.00",
      "text/html": "<div>\n<style scoped>\n    .dataframe tbody tr th:only-of-type {\n        vertical-align: middle;\n    }\n\n    .dataframe tbody tr th {\n        vertical-align: top;\n    }\n\n    .dataframe thead th {\n        text-align: right;\n    }\n</style>\n<table border=\"1\" class=\"dataframe\">\n  <thead>\n    <tr style=\"text-align: right;\">\n      <th></th>\n      <th>NU_NOTA_CN</th>\n      <th>NU_NOTA_CH</th>\n      <th>NU_NOTA_LC</th>\n      <th>NU_NOTA_MT</th>\n      <th>NU_NOTA_REDACAO</th>\n    </tr>\n  </thead>\n  <tbody>\n    <tr>\n      <th>0</th>\n      <td>599.50</td>\n      <td>664.60</td>\n      <td>629.90</td>\n      <td>739.30</td>\n      <td>800.00</td>\n    </tr>\n    <tr>\n      <th>1</th>\n      <td>580.90</td>\n      <td>624.40</td>\n      <td>574.80</td>\n      <td>630.80</td>\n      <td>600.00</td>\n    </tr>\n    <tr>\n      <th>2</th>\n      <td>585.20</td>\n      <td>627.90</td>\n      <td>706.10</td>\n      <td>784.90</td>\n      <td>860.00</td>\n    </tr>\n    <tr>\n      <th>3</th>\n      <td>534.80</td>\n      <td>646.70</td>\n      <td>598.40</td>\n      <td>615.50</td>\n      <td>740.00</td>\n    </tr>\n    <tr>\n      <th>4</th>\n      <td>413.20</td>\n      <td>542.50</td>\n      <td>462.40</td>\n      <td>394.50</td>\n      <td>500.00</td>\n    </tr>\n  </tbody>\n</table>\n</div>"
     },
     "metadata": {},
     "execution_count": 10
    }
   ],
   "source": [
    "dados_validacao.head()"
   ]
  },
  {
   "cell_type": "code",
   "execution_count": 11,
   "metadata": {},
   "outputs": [
    {
     "output_type": "execute_result",
     "data": {
      "text/plain": "   NU_NOTA_CN  NU_NOTA_CH  NU_NOTA_MT  NU_NOTA_REDACAO\n0      599.50      664.60      739.30           800.00\n1      580.90      624.40      630.80           600.00\n2      585.20      627.90      784.90           860.00\n3      534.80      646.70      615.50           740.00\n4      413.20      542.50      394.50           500.00",
      "text/html": "<div>\n<style scoped>\n    .dataframe tbody tr th:only-of-type {\n        vertical-align: middle;\n    }\n\n    .dataframe tbody tr th {\n        vertical-align: top;\n    }\n\n    .dataframe thead th {\n        text-align: right;\n    }\n</style>\n<table border=\"1\" class=\"dataframe\">\n  <thead>\n    <tr style=\"text-align: right;\">\n      <th></th>\n      <th>NU_NOTA_CN</th>\n      <th>NU_NOTA_CH</th>\n      <th>NU_NOTA_MT</th>\n      <th>NU_NOTA_REDACAO</th>\n    </tr>\n  </thead>\n  <tbody>\n    <tr>\n      <th>0</th>\n      <td>599.50</td>\n      <td>664.60</td>\n      <td>739.30</td>\n      <td>800.00</td>\n    </tr>\n    <tr>\n      <th>1</th>\n      <td>580.90</td>\n      <td>624.40</td>\n      <td>630.80</td>\n      <td>600.00</td>\n    </tr>\n    <tr>\n      <th>2</th>\n      <td>585.20</td>\n      <td>627.90</td>\n      <td>784.90</td>\n      <td>860.00</td>\n    </tr>\n    <tr>\n      <th>3</th>\n      <td>534.80</td>\n      <td>646.70</td>\n      <td>615.50</td>\n      <td>740.00</td>\n    </tr>\n    <tr>\n      <th>4</th>\n      <td>413.20</td>\n      <td>542.50</td>\n      <td>394.50</td>\n      <td>500.00</td>\n    </tr>\n  </tbody>\n</table>\n</div>"
     },
     "metadata": {},
     "execution_count": 11
    }
   ],
   "source": [
    "desafioqt = dados_validacao[['NU_NOTA_CN', 'NU_NOTA_CH',\n",
    "       'NU_NOTA_MT', 'NU_NOTA_REDACAO']]\n",
    "\n",
    "desafioqt.head()"
   ]
  },
  {
   "cell_type": "code",
   "execution_count": 12,
   "metadata": {},
   "outputs": [],
   "source": [
    "destino_treino = f\"DADOS_TREINO.csv\"\n",
    "destino_teste  = f\"DADOS_TESTE.csv\"\n",
    "destino_validacao = f\"DADOS_VALIDACAO_SEED_{seed}.csv\"\n",
    "destino_desafioqt = f\"DESAFIOQT.csv\"\n",
    "\n",
    "dados_treino.to_csv(destino_treino, index=False)\n",
    "dados_teste.to_csv(destino_teste, index=False)\n",
    "dados_validacao.to_csv(destino_validacao, index_label=\"ID\")\n",
    "desafioqt.to_csv(destino_desafioqt, index_label=\"ID\")"
   ]
  },
  {
   "cell_type": "code",
   "execution_count": null,
   "metadata": {},
   "outputs": [],
   "source": []
  }
 ],
 "metadata": {
  "kernelspec": {
   "display_name": "Python 3",
   "language": "python",
   "name": "python3"
  },
  "language_info": {
   "codemirror_mode": {
    "name": "ipython",
    "version": 3
   },
   "file_extension": ".py",
   "mimetype": "text/x-python",
   "name": "python",
   "nbconvert_exporter": "python",
   "pygments_lexer": "ipython3",
   "version": "3.7.7-final"
  }
 },
 "nbformat": 4,
 "nbformat_minor": 4
}